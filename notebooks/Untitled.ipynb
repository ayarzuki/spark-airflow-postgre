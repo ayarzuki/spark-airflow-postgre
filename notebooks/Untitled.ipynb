{
 "cells": [
  {
   "cell_type": "code",
   "execution_count": 1,
   "id": "33a3f7f8-b9de-4b81-b29c-4802f330466b",
   "metadata": {
    "tags": []
   },
   "outputs": [
    {
     "ename": "NameError",
     "evalue": "name 'Path' is not defined",
     "output_type": "error",
     "traceback": [
      "\u001b[0;31m---------------------------------------------------------------------------\u001b[0m",
      "\u001b[0;31mNameError\u001b[0m                                 Traceback (most recent call last)",
      "Cell \u001b[0;32mIn[1], line 38\u001b[0m\n\u001b[1;32m     35\u001b[0m     retail_df\u001b[38;5;241m.\u001b[39mshow()\n\u001b[1;32m     37\u001b[0m \u001b[38;5;28;01mif\u001b[39;00m \u001b[38;5;18m__name__\u001b[39m \u001b[38;5;241m==\u001b[39m \u001b[38;5;124m\"\u001b[39m\u001b[38;5;124m__main__\u001b[39m\u001b[38;5;124m\"\u001b[39m:\n\u001b[0;32m---> 38\u001b[0m     \u001b[43mmain\u001b[49m\u001b[43m(\u001b[49m\u001b[43m)\u001b[49m\n",
      "Cell \u001b[0;32mIn[1], line 2\u001b[0m, in \u001b[0;36mmain\u001b[0;34m()\u001b[0m\n\u001b[1;32m      1\u001b[0m \u001b[38;5;28;01mdef\u001b[39;00m \u001b[38;5;21mmain\u001b[39m():\n\u001b[0;32m----> 2\u001b[0m     dotenv_path \u001b[38;5;241m=\u001b[39m \u001b[43mPath\u001b[49m(\u001b[38;5;124m'\u001b[39m\u001b[38;5;124m/resources/.env\u001b[39m\u001b[38;5;124m'\u001b[39m)\n\u001b[1;32m      3\u001b[0m     load_dotenv(dotenv_path\u001b[38;5;241m=\u001b[39mdotenv_path)\n\u001b[1;32m      5\u001b[0m     postgres_host \u001b[38;5;241m=\u001b[39m os\u001b[38;5;241m.\u001b[39mgetenv(\u001b[38;5;124m'\u001b[39m\u001b[38;5;124mPOSTGRES_CONTAINER_NAME\u001b[39m\u001b[38;5;124m'\u001b[39m)\n",
      "\u001b[0;31mNameError\u001b[0m: name 'Path' is not defined"
     ]
    }
   ],
   "source": [
    "def main():\n",
    "    dotenv_path = Path('/resources/.env')\n",
    "    load_dotenv(dotenv_path=dotenv_path)\n",
    "\n",
    "    postgres_host = os.getenv('POSTGRES_CONTAINER_NAME')\n",
    "    postgres_db = os.getenv('POSTGRES_DB')\n",
    "    postgres_user = os.getenv('POSTGRES_USER')\n",
    "    postgres_password = os.getenv('POSTGRES_PASSWORD')\n",
    "\n",
    "    sparkcontext = pyspark.SparkContext.getOrCreate(conf=(\n",
    "        pyspark\n",
    "        .SparkConf()\n",
    "        .setAppName('retail-analysis')\n",
    "        .setMaster('local')\n",
    "        .set(\"spark.jars\", \"/opt/postgresql-42.2.18.jar\")\n",
    "    ))\n",
    "    sparkcontext.setLogLevel(\"WARN\")\n",
    "\n",
    "    spark = pyspark.sql.SparkSession(sparkcontext.getOrCreate())\n",
    "\n",
    "    jdbc_url = f'jdbc:postgresql://{postgres_host}/{postgres_db}'\n",
    "    jdbc_properties = {\n",
    "        'user': postgres_user,\n",
    "        'password': postgres_password,\n",
    "        'driver': 'org.postgresql.Driver',\n",
    "        'stringtype': 'unspecified'\n",
    "    }\n",
    "\n",
    "    retail_df = spark.read.jdbc(\n",
    "        jdbc_url,\n",
    "        'public.retail',\n",
    "        properties=jdbc_properties\n",
    "    )\n",
    "\n",
    "    retail_df.show()\n",
    "    \n",
    "if __name__ == \"__main__\":\n",
    "    main()"
   ]
  },
  {
   "cell_type": "code",
   "execution_count": 2,
   "id": "e9834fa0-ff72-4197-9706-d7bb0efd515a",
   "metadata": {
    "tags": []
   },
   "outputs": [],
   "source": [
    "import pyspark\n",
    "import os\n",
    "import json\n",
    "import argparse\n",
    "\n",
    "from dotenv import load_dotenv\n",
    "from pathlib import Path\n",
    "from pyspark.sql.types import StructType\n",
    "from pyspark.sql.functions import to_timestamp,col,when"
   ]
  },
  {
   "cell_type": "code",
   "execution_count": 4,
   "id": "331966c9-efd4-4eed-bb65-e30f6c56865d",
   "metadata": {
    "tags": []
   },
   "outputs": [
    {
     "name": "stdout",
     "output_type": "stream",
     "text": [
      "+---------+---------+--------------------+--------+-----------+---------+----------+--------------+\n",
      "|invoiceno|stockcode|         description|quantity|invoicedate|unitprice|customerid|       country|\n",
      "+---------+---------+--------------------+--------+-----------+---------+----------+--------------+\n",
      "|   536365|   85123A|WHITE HANGING HEA...|       6| 2010-12-01|     2.55|     17850|United Kingdom|\n",
      "|   536365|    71053| WHITE METAL LANTERN|       6| 2010-12-01|     3.39|     17850|United Kingdom|\n",
      "|   536365|   84406B|CREAM CUPID HEART...|       8| 2010-12-01|     2.75|     17850|United Kingdom|\n",
      "|   536365|   84029G|KNITTED UNION FLA...|       6| 2010-12-01|     3.39|     17850|United Kingdom|\n",
      "|   536365|   84029E|RED WOOLLY HOTTIE...|       6| 2010-12-01|     3.39|     17850|United Kingdom|\n",
      "|   536365|    22752|SET 7 BABUSHKA NE...|       2| 2010-12-01|     7.65|     17850|United Kingdom|\n",
      "|   536365|    21730|GLASS STAR FROSTE...|       6| 2010-12-01|     4.25|     17850|United Kingdom|\n",
      "|   536366|    22633|HAND WARMER UNION...|       6| 2010-12-01|     1.85|     17850|United Kingdom|\n",
      "|   536366|    22632|HAND WARMER RED P...|       6| 2010-12-01|     1.85|     17850|United Kingdom|\n",
      "|   536367|    84879|ASSORTED COLOUR B...|      32| 2010-12-01|     1.69|     13047|United Kingdom|\n",
      "|   536367|    22745|POPPY'S PLAYHOUSE...|       6| 2010-12-01|      2.1|     13047|United Kingdom|\n",
      "|   536367|    22748|POPPY'S PLAYHOUSE...|       6| 2010-12-01|      2.1|     13047|United Kingdom|\n",
      "|   536367|    22749|FELTCRAFT PRINCES...|       8| 2010-12-01|     3.75|     13047|United Kingdom|\n",
      "|   536367|    22310|IVORY KNITTED MUG...|       6| 2010-12-01|     1.65|     13047|United Kingdom|\n",
      "|   536367|    84969|BOX OF 6 ASSORTED...|       6| 2010-12-01|     4.25|     13047|United Kingdom|\n",
      "|   536367|    22623|BOX OF VINTAGE JI...|       3| 2010-12-01|     4.95|     13047|United Kingdom|\n",
      "|   536367|    22622|BOX OF VINTAGE AL...|       2| 2010-12-01|     9.95|     13047|United Kingdom|\n",
      "|   536367|    21754|HOME BUILDING BLO...|       3| 2010-12-01|     5.95|     13047|United Kingdom|\n",
      "|   536367|    21755|LOVE BUILDING BLO...|       3| 2010-12-01|     5.95|     13047|United Kingdom|\n",
      "|   536367|    21777|RECIPE BOX WITH M...|       4| 2010-12-01|     7.95|     13047|United Kingdom|\n",
      "+---------+---------+--------------------+--------+-----------+---------+----------+--------------+\n",
      "only showing top 20 rows\n",
      "\n"
     ]
    }
   ],
   "source": [
    "def main():\n",
    "    dotenv_path = Path('/resources/.env')\n",
    "    load_dotenv(dotenv_path=dotenv_path)\n",
    "\n",
    "    postgres_host = os.getenv('POSTGRES_CONTAINER_NAME')\n",
    "    postgres_db = os.getenv('POSTGRES_DB')\n",
    "    postgres_user = os.getenv('POSTGRES_USER')\n",
    "    postgres_password = os.getenv('POSTGRES_PASSWORD')\n",
    "\n",
    "    sparkcontext = pyspark.SparkContext.getOrCreate(conf=(\n",
    "        pyspark\n",
    "        .SparkConf()\n",
    "        .setAppName('retail-analysis')\n",
    "        .setMaster('local')\n",
    "        .set(\"spark.jars\", \"/opt/postgresql-42.2.18.jar\")\n",
    "    ))\n",
    "    sparkcontext.setLogLevel(\"WARN\")\n",
    "\n",
    "    spark = pyspark.sql.SparkSession(sparkcontext.getOrCreate())\n",
    "\n",
    "    jdbc_url = f'jdbc:postgresql://{postgres_host}/{postgres_db}'\n",
    "    jdbc_properties = {\n",
    "        'user': postgres_user,\n",
    "        'password': postgres_password,\n",
    "        'driver': 'org.postgresql.Driver',\n",
    "        'stringtype': 'unspecified'\n",
    "    }\n",
    "\n",
    "    retail_df = spark.read.jdbc(\n",
    "        jdbc_url,\n",
    "        'public.retail',\n",
    "        properties=jdbc_properties\n",
    "    )\n",
    "\n",
    "    retail_df.show()\n",
    "    \n",
    "if __name__ == \"__main__\":\n",
    "    main()"
   ]
  },
  {
   "cell_type": "code",
   "execution_count": 6,
   "id": "5387383e-6adf-4d57-8535-a7ad4e4a6461",
   "metadata": {
    "tags": []
   },
   "outputs": [
    {
     "ename": "NameError",
     "evalue": "name 'retail_df' is not defined",
     "output_type": "error",
     "traceback": [
      "\u001b[0;31m---------------------------------------------------------------------------\u001b[0m",
      "\u001b[0;31mNameError\u001b[0m                                 Traceback (most recent call last)",
      "Cell \u001b[0;32mIn[6], line 1\u001b[0m\n\u001b[0;32m----> 1\u001b[0m \u001b[43mretail_df\u001b[49m\u001b[38;5;241m.\u001b[39mshow()\n",
      "\u001b[0;31mNameError\u001b[0m: name 'retail_df' is not defined"
     ]
    }
   ],
   "source": [
    "retail_df.show()"
   ]
  },
  {
   "cell_type": "code",
   "execution_count": null,
   "id": "fb198c5d-13a2-46b4-a581-0508e5ccb693",
   "metadata": {},
   "outputs": [],
   "source": []
  }
 ],
 "metadata": {
  "kernelspec": {
   "display_name": "Python 3 (ipykernel)",
   "language": "python",
   "name": "python3"
  },
  "language_info": {
   "codemirror_mode": {
    "name": "ipython",
    "version": 3
   },
   "file_extension": ".py",
   "mimetype": "text/x-python",
   "name": "python",
   "nbconvert_exporter": "python",
   "pygments_lexer": "ipython3",
   "version": "3.10.10"
  }
 },
 "nbformat": 4,
 "nbformat_minor": 5
}
